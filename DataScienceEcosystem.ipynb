{
 "cells": [
  {
   "cell_type": "markdown",
   "id": "0e965c3a-db08-4c61-a4f3-0fd13ce1f3dd",
   "metadata": {},
   "source": [
    "# Data Science Tools and Ecosystem"
   ]
  },
  {
   "cell_type": "markdown",
   "id": "6aba3bf0-23b4-4fa8-85a6-3b66688ee5d9",
   "metadata": {},
   "source": [
    "In this notebook, Data Science Tools and Ecosystem are summarized."
   ]
  },
  {
   "cell_type": "markdown",
   "id": "f9b5e629-fcec-41c9-a227-5abbaf847291",
   "metadata": {},
   "source": [
    "***Objectives:***"
   ]
  },
  {
   "cell_type": "markdown",
   "id": "f018dda8-0796-4db5-9002-d80b7670ab78",
   "metadata": {},
   "source": [
    "+ List popular languages for Data Science\n",
    "+ Commonly used libraries\n",
    "+ Arithmetic expressions\n",
    "+ Unit conversions"
   ]
  },
  {
   "cell_type": "markdown",
   "id": "e191f26d-40eb-4814-8236-6663a7ca9a1e",
   "metadata": {},
   "source": [
    "## Some of the popular languages that Data Scientists use are:"
   ]
  },
  {
   "cell_type": "markdown",
   "id": "72fe46ad-f82c-4a7d-bce9-0e7ce45dba7f",
   "metadata": {},
   "source": [
    "- Python\n",
    "- R\n",
    "- Scala"
   ]
  },
  {
   "cell_type": "markdown",
   "id": "bd87099d-ab89-456b-9cd1-18079b18c041",
   "metadata": {},
   "source": [
    "## Some of the commonly used libraries used by Data Scientists include:"
   ]
  },
  {
   "cell_type": "markdown",
   "id": "5f69601a-a3c8-4c29-9a1a-cfa063f65536",
   "metadata": {},
   "source": [
    "+ pandas\n",
    "+ scikitLearn\n",
    "+ numpy"
   ]
  },
  {
   "cell_type": "markdown",
   "id": "f7070d9c-9f15-45fd-9c94-0a0fbd490957",
   "metadata": {},
   "source": [
    "| Data Science Tools |\n",
    "---------------------\n",
    "| Jupyter Notebook|\n",
    "| RStudio |\n",
    "| Google Colab|"
   ]
  },
  {
   "cell_type": "markdown",
   "id": "28de1d15-9d66-4219-9210-0ca3199ae1e7",
   "metadata": {},
   "source": [
    "### Below are a few examples of evaluating arithmetic expressions in Python"
   ]
  },
  {
   "cell_type": "code",
   "execution_count": 1,
   "id": "e03028fe-96ae-4f37-ad0b-0acc4336fb74",
   "metadata": {},
   "outputs": [
    {
     "data": {
      "text/plain": [
       "17"
      ]
     },
     "execution_count": 1,
     "metadata": {},
     "output_type": "execute_result"
    }
   ],
   "source": [
    "(3 * 4) + 5"
   ]
  },
  {
   "cell_type": "code",
   "execution_count": 3,
   "id": "c39c2f95-7df2-4202-8d48-c4f5e12a8117",
   "metadata": {},
   "outputs": [
    {
     "data": {
      "text/plain": [
       "3"
      ]
     },
     "execution_count": 3,
     "metadata": {},
     "output_type": "execute_result"
    }
   ],
   "source": [
    "#This will convert 200 minutes to hours by diving by 60\n",
    "int(200/60)"
   ]
  },
  {
   "cell_type": "markdown",
   "id": "c1ce571d-830e-47bb-ade8-fbbf93d74c43",
   "metadata": {},
   "source": [
    "## Author"
   ]
  },
  {
   "cell_type": "markdown",
   "id": "42ff7e86-8e83-46ee-8de8-2fbcd14f6a70",
   "metadata": {},
   "source": [
    "Ntobeko Ngwenya"
   ]
  },
  {
   "cell_type": "code",
   "execution_count": null,
   "id": "19c6ad65-0c0b-477a-83dc-028b0eb5f7d2",
   "metadata": {},
   "outputs": [],
   "source": []
  }
 ],
 "metadata": {
  "kernelspec": {
   "display_name": "Python 3 (ipykernel)",
   "language": "python",
   "name": "python3"
  },
  "language_info": {
   "codemirror_mode": {
    "name": "ipython",
    "version": 3
   },
   "file_extension": ".py",
   "mimetype": "text/x-python",
   "name": "python",
   "nbconvert_exporter": "python",
   "pygments_lexer": "ipython3",
   "version": "3.11.7"
  }
 },
 "nbformat": 4,
 "nbformat_minor": 5
}
